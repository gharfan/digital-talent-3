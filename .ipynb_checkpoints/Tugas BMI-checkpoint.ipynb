{
 "cells": [
  {
   "cell_type": "markdown",
   "metadata": {},
   "source": [
    "Qonitah Rafiusrani\n",
    "Kelas Big Data - C\n",
    "\n",
    "Kode untuk menghitung BMI dan kategorinya"
   ]
  },
  {
   "cell_type": "code",
   "execution_count": 6,
   "metadata": {},
   "outputs": [
    {
     "name": "stdout",
     "output_type": "stream",
     "text": [
      "Body Mass Index (BMI) anda adalah 19.735976492259113\n",
      "dan termasuk dalam kategori\n",
      "Normal (healthy weight)\n"
     ]
    }
   ],
   "source": [
    "weight = 45.0\n",
    "height = 151.0\n",
    "BMI = weight / (height/100)**2\n",
    "\n",
    "print(\"Body Mass Index (BMI) anda adalah\", BMI)\n",
    "print(\"dan termasuk dalam kategori\")\n",
    "\n",
    "if BMI<15.0:\n",
    "    print(\"Very Severely Underweight\")\n",
    "elif BMI>=15.0 and BMI<16.0:\n",
    "    print(\"Severely underweight\")\n",
    "elif BMI>=16.0 and BMI<18.5:\n",
    "    print(\"Underweight\")\n",
    "elif BMI>=18.5 and BMI<25.0:\n",
    "    print(\"Normal (healthy weight)\")\n",
    "elif BMI>=25.0 and BMI<30.0:\n",
    "    print(\"Overweight\")\n",
    "elif BMI>=30.0 and BMI<35.0:\n",
    "    print(\"Moderately obese\")\n",
    "elif BMI>=35.0 and BMI<40.0:\n",
    "    print(\"Severely Obese\")\n",
    "elif BMI>=40.0:\n",
    "    print(\"Very Severely Obese\")"
   ]
  },
  {
   "cell_type": "code",
   "execution_count": null,
   "metadata": {},
   "outputs": [],
   "source": []
  }
 ],
 "metadata": {
  "kernelspec": {
   "display_name": "Python 3",
   "language": "python",
   "name": "python3"
  },
  "language_info": {
   "codemirror_mode": {
    "name": "ipython",
    "version": 3
   },
   "file_extension": ".py",
   "mimetype": "text/x-python",
   "name": "python",
   "nbconvert_exporter": "python",
   "pygments_lexer": "ipython3",
   "version": "3.7.0"
  }
 },
 "nbformat": 4,
 "nbformat_minor": 2
}
