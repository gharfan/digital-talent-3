{
 "cells": [
  {
   "cell_type": "code",
   "execution_count": 1,
   "metadata": {},
   "outputs": [
    {
     "name": "stdout",
     "output_type": "stream",
     "text": [
      "Hello, World!\n"
     ]
    }
   ],
   "source": [
    "print(\"Hello, World!\")"
   ]
  },
  {
   "cell_type": "code",
   "execution_count": 3,
   "metadata": {},
   "outputs": [
    {
     "name": "stdout",
     "output_type": "stream",
     "text": [
      "Hello jupyter\n"
     ]
    }
   ],
   "source": [
    "print(\"Hello jupyter\")"
   ]
  },
  {
   "cell_type": "markdown",
   "metadata": {},
   "source": [
    "Ini bisa __Bold__ atau _Italic_ di-_url_ [Code**Politan**](https://www.codepolitan.com/ \"CodePolitan\")\n",
    "\n",
    "Bisa juga pakai _Latex_ sintak, seperti $\\sqrt(2)$"
   ]
  },
  {
   "cell_type": "code",
   "execution_count": 2,
   "metadata": {},
   "outputs": [
    {
     "name": "stdout",
     "output_type": "stream",
     "text": [
      "Qonitah Rafiusrani\n"
     ]
    }
   ],
   "source": [
    "nama = \"Qonitah Rafiusrani\"\n",
    "\n",
    "print(nama)"
   ]
  },
  {
   "cell_type": "code",
   "execution_count": 4,
   "metadata": {},
   "outputs": [
    {
     "name": "stdout",
     "output_type": "stream",
     "text": [
      "Dewi Luthfi A\n"
     ]
    }
   ],
   "source": [
    "nama = \"Qonitah Rafiusrani\"\n",
    "nama = \"Dewi Luthfi A\"\n",
    "\n",
    "print(nama)"
   ]
  },
  {
   "cell_type": "code",
   "execution_count": 5,
   "metadata": {},
   "outputs": [
    {
     "name": "stdout",
     "output_type": "stream",
     "text": [
      "5\n",
      "3.2\n",
      "Hello\n"
     ]
    }
   ],
   "source": [
    "a, b, c = 5, 3.2, \"Hello\"\n",
    "\n",
    "print(a)\n",
    "print(b)\n",
    "print(c)"
   ]
  },
  {
   "cell_type": "code",
   "execution_count": 6,
   "metadata": {},
   "outputs": [
    {
     "name": "stdout",
     "output_type": "stream",
     "text": [
      "podo\n",
      "podo\n",
      "podo\n"
     ]
    }
   ],
   "source": [
    "x = y = z = \"podo\"\n",
    "\n",
    "print(x)\n",
    "print(y)\n",
    "print(z)"
   ]
  },
  {
   "cell_type": "code",
   "execution_count": 7,
   "metadata": {},
   "outputs": [
    {
     "name": "stdout",
     "output_type": "stream",
     "text": [
      "5 mempunyai tipe <class 'int'>\n"
     ]
    }
   ],
   "source": [
    "a = 5\n",
    "print(a, \"mempunyai tipe\", type(a))"
   ]
  },
  {
   "cell_type": "code",
   "execution_count": 8,
   "metadata": {},
   "outputs": [
    {
     "name": "stdout",
     "output_type": "stream",
     "text": [
      "2.0 mempunyai tipe <class 'float'>\n"
     ]
    }
   ],
   "source": [
    "a = 2.0\n",
    "print(a, \"mempunyai tipe\", type(a))"
   ]
  },
  {
   "cell_type": "code",
   "execution_count": 9,
   "metadata": {},
   "outputs": [
    {
     "name": "stdout",
     "output_type": "stream",
     "text": [
      "False mempunyai tipe <class 'bool'>\n"
     ]
    }
   ],
   "source": [
    "a = 5>6\n",
    "print(a, \"mempunyai tipe\", type(a))"
   ]
  },
  {
   "cell_type": "code",
   "execution_count": 10,
   "metadata": {},
   "outputs": [
    {
     "name": "stdout",
     "output_type": "stream",
     "text": [
      "True mempunyai tipe <class 'bool'>\n"
     ]
    }
   ],
   "source": [
    "a = 6>5\n",
    "print(a, \"mempunyai tipe\", type(a))"
   ]
  },
  {
   "cell_type": "code",
   "execution_count": 11,
   "metadata": {},
   "outputs": [
    {
     "name": "stdout",
     "output_type": "stream",
     "text": [
      "ini adalah sebuah string mempunyai tipe <class 'str'>\n"
     ]
    }
   ],
   "source": [
    "a = \"ini adalah sebuah string\"\n",
    "print(a, \"mempunyai tipe\", type(a))"
   ]
  },
  {
   "cell_type": "code",
   "execution_count": 12,
   "metadata": {},
   "outputs": [
    {
     "name": "stdout",
     "output_type": "stream",
     "text": [
      "x + y = 19\n",
      "x - y = 11\n",
      "x * y = 60\n",
      "x / y = 3.75\n",
      "x % y = 3\n",
      "x // y = 3\n",
      "x ** y = 50625\n"
     ]
    }
   ],
   "source": [
    "x = 15\n",
    "y = 4\n",
    "\n",
    "print('x + y =', x+y)\n",
    "print('x - y =', x-y)\n",
    "print('x * y =', x*y)\n",
    "print('x / y =', x/y)\n",
    "print('x % y =', x%y)\n",
    "print('x // y =', x//y)\n",
    "print('x ** y =', x**y)"
   ]
  },
  {
   "cell_type": "code",
   "execution_count": 15,
   "metadata": {},
   "outputs": [
    {
     "name": "stdout",
     "output_type": "stream",
     "text": [
      "11\n",
      "55\n",
      "5\n"
     ]
    }
   ],
   "source": [
    "a = 5\n",
    "b = 2\n",
    "a = a + 6\n",
    "print(a)\n",
    "a = a * 5\n",
    "print(a)\n",
    "a = b + 3\n",
    "print(a)"
   ]
  },
  {
   "cell_type": "code",
   "execution_count": 1,
   "metadata": {},
   "outputs": [
    {
     "name": "stdout",
     "output_type": "stream",
     "text": [
      "60000.0\n",
      "69000.0\n",
      "63000.0\n",
      "3786000.0\n"
     ]
    }
   ],
   "source": [
    "a = 100000\n",
    "b = a * 60 / 100\n",
    "print(b)\n",
    "a = b + 9000\n",
    "print(a)\n",
    "b = b + 3000\n",
    "print(b)\n",
    "a = a + b * 59\n",
    "print(a)"
   ]
  },
  {
   "cell_type": "code",
   "execution_count": 30,
   "metadata": {},
   "outputs": [
    {
     "name": "stdout",
     "output_type": "stream",
     "text": [
      "x > y is False\n",
      "x < y is True\n",
      "x == y is False\n",
      "x != y is True\n",
      "x >= y is False\n",
      "x <= y is True\n"
     ]
    }
   ],
   "source": [
    "x = 10\n",
    "y = 12\n",
    "\n",
    "print('x > y is', x>y)\n",
    "print('x < y is', x<y)\n",
    "print('x == y is', x==y)\n",
    "print('x != y is', x!=y)\n",
    "print('x >= y is', x>=y)\n",
    "print('x <= y is', x<=y)"
   ]
  },
  {
   "cell_type": "code",
   "execution_count": 31,
   "metadata": {},
   "outputs": [
    {
     "name": "stdout",
     "output_type": "stream",
     "text": [
      "x and y is False\n",
      "x or y is True\n",
      "not x is False\n"
     ]
    }
   ],
   "source": [
    "x = 5 == 5\n",
    "y = 1 > 2\n",
    "\n",
    "print('x and y is', x and y)\n",
    "print('x or y is', x or y)\n",
    "print('not x is', not x)"
   ]
  },
  {
   "cell_type": "code",
   "execution_count": 32,
   "metadata": {},
   "outputs": [
    {
     "name": "stdout",
     "output_type": "stream",
     "text": [
      "Lulus\n",
      "Selamat\n",
      "Program Selesai\n"
     ]
    }
   ],
   "source": [
    "nilai = 95\n",
    "if nilai > 90:\n",
    "    print(\"Lulus\")\n",
    "    print(\"Selamat\")\n",
    "    \n",
    "print(\"Program Selesai\")"
   ]
  },
  {
   "cell_type": "code",
   "execution_count": 33,
   "metadata": {},
   "outputs": [
    {
     "name": "stdout",
     "output_type": "stream",
     "text": [
      "Program Selesai\n"
     ]
    }
   ],
   "source": [
    "nilai = 80\n",
    "if nilai > 90:\n",
    "    print(\"Lulus\")\n",
    "    print(\"Selamat\")\n",
    "    \n",
    "print(\"Program Selesai\")"
   ]
  },
  {
   "cell_type": "code",
   "execution_count": 34,
   "metadata": {},
   "outputs": [
    {
     "name": "stdout",
     "output_type": "stream",
     "text": [
      "Maaf Anda Belum Berhasil\n",
      "Program Selesai\n"
     ]
    }
   ],
   "source": [
    "nilai = 80\n",
    "if nilai >90:\n",
    "    print(\"Lulus\")\n",
    "    print(\"Selamat\")\n",
    "else:\n",
    "    print(\"Maaf Anda Belum Berhasil\")\n",
    "\n",
    "print(\"Program Selesai\")"
   ]
  },
  {
   "cell_type": "code",
   "execution_count": 36,
   "metadata": {},
   "outputs": [
    {
     "name": "stdout",
     "output_type": "stream",
     "text": [
      "Anda masuk ke waiting list\n",
      "Program Selesai\n"
     ]
    }
   ],
   "source": [
    "nilai = 85\n",
    "if nilai > 90:\n",
    "    print(\"Lulus\")\n",
    "    print(\"Selamat\")\n",
    "elif nilai > 80:\n",
    "    print(\"Anda masuk ke waiting list\")\n",
    "else:\n",
    "    print(\"Maaf Anda Belum Berhasil\")\n",
    "    \n",
    "print(\"Program Selesai\")"
   ]
  },
  {
   "cell_type": "code",
   "execution_count": 37,
   "metadata": {},
   "outputs": [
    {
     "name": "stdout",
     "output_type": "stream",
     "text": [
      "Maaf, Anda belum berhak mengikuti program beasiswa\n",
      "Program Selesai\n"
     ]
    }
   ],
   "source": [
    "nilai = 95\n",
    "umur = 10\n",
    "if nilai > 90:\n",
    "    if umur > 17:\n",
    "        print(\"Selamat Anda Berhak Mengikuti Program Beasiswa\")\n",
    "    else:\n",
    "        print(\"Maaf, Anda belum berhak mengikuti program beasiswa\")\n",
    "else:\n",
    "    print(\"Maaf Anda Belum Berhasil\")\n",
    "\n",
    "print(\"Program Selesai\")"
   ]
  },
  {
   "cell_type": "code",
   "execution_count": 49,
   "metadata": {},
   "outputs": [
    {
     "name": "stdout",
     "output_type": "stream",
     "text": [
      "BMI = 19.735976492259113\n",
      "Normal (healthy weight)\n"
     ]
    }
   ],
   "source": [
    "weight = 45\n",
    "height = 1.51\n",
    "BMI = weight / (height**2)\n",
    "print('BMI =', BMI)\n",
    "\n",
    "if BMI<40:\n",
    "    if 35<BMI<40:\n",
    "        print(\"Severely obese\")\n",
    "    else:\n",
    "        if 30<BMI<35:\n",
    "            print(\"Moderately obese\")\n",
    "        else:\n",
    "            if 25<BMI<30:\n",
    "                print(\"Overweight\")\n",
    "            else:\n",
    "                if 18.5<BMI<25:\n",
    "                    print(\"Normal (healthy weight)\")\n",
    "                else:\n",
    "                    if 16<BMI<18.5:\n",
    "                        print(\"Underweight\")\n",
    "                    else:\n",
    "                        if 15<BMI<16:\n",
    "                            print(\"Severely underweight\")\n",
    "                        else:\n",
    "                            print(\"Very Severely Underweight\")\n",
    "    \n",
    "else:\n",
    "    print(\"Very severely obese\")"
   ]
  },
  {
   "cell_type": "code",
   "execution_count": null,
   "metadata": {},
   "outputs": [],
   "source": []
  }
 ],
 "metadata": {
  "kernelspec": {
   "display_name": "Python 3",
   "language": "python",
   "name": "python3"
  },
  "language_info": {
   "codemirror_mode": {
    "name": "ipython",
    "version": 3
   },
   "file_extension": ".py",
   "mimetype": "text/x-python",
   "name": "python",
   "nbconvert_exporter": "python",
   "pygments_lexer": "ipython3",
   "version": "3.7.0"
  }
 },
 "nbformat": 4,
 "nbformat_minor": 2
}
