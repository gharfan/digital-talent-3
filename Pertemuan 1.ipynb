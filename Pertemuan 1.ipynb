{
 "cells": [
  {
   "cell_type": "markdown",
   "metadata": {},
   "source": [
    "# 1. Sintaks Dasar\n",
    "print adalah sintaks untuk mengoutputkan operasi. Untuk mengevakuasi bisa menggunakan SHIFT+ENTER"
   ]
  },
  {
   "cell_type": "code",
   "execution_count": 3,
   "metadata": {},
   "outputs": [
    {
     "name": "stdout",
     "output_type": "stream",
     "text": [
      "Hello World\n",
      "15625\n"
     ]
    }
   ],
   "source": [
    "print(\"Hello World\")\n",
    "print(5**6)"
   ]
  },
  {
   "cell_type": "code",
   "execution_count": 4,
   "metadata": {},
   "outputs": [
    {
     "name": "stdout",
     "output_type": "stream",
     "text": [
      "5 mempunyai tipe <class 'int'>\n",
      "5.0 mempunyai tipe <class 'float'>\n"
     ]
    }
   ],
   "source": [
    "a = 5\n",
    "print(a, \"mempunyai tipe\", type(a))\n",
    "\n",
    "a = 5.0\n",
    "print(a, \"mempunyai tipe\", type(a))"
   ]
  },
  {
   "cell_type": "code",
   "execution_count": 5,
   "metadata": {},
   "outputs": [
    {
     "name": "stdout",
     "output_type": "stream",
     "text": [
      "False mempunyai tipe <class 'bool'>\n",
      "True mempunyai tipe <class 'bool'>\n"
     ]
    }
   ],
   "source": [
    "a = 5>6\n",
    "print(a, \"mempunyai tipe\", type(a))\n",
    "\n",
    "a = 6>5\n",
    "print(a, \"mempunyai tipe\", type(a))"
   ]
  },
  {
   "cell_type": "code",
   "execution_count": 6,
   "metadata": {},
   "outputs": [
    {
     "name": "stdout",
     "output_type": "stream",
     "text": [
      "Ini adalah sebuah string mempunyai tipe <class 'str'>\n"
     ]
    }
   ],
   "source": [
    "a = \"Ini adalah sebuah string\"\n",
    "print(a, \"mempunyai tipe\", type(a))"
   ]
  },
  {
   "cell_type": "code",
   "execution_count": 10,
   "metadata": {},
   "outputs": [
    {
     "name": "stdout",
     "output_type": "stream",
     "text": [
      "81\n"
     ]
    }
   ],
   "source": [
    "x = 5\n",
    "y = 4\n",
    "\n",
    "print((x+y)*(x+y))"
   ]
  },
  {
   "cell_type": "code",
   "execution_count": 15,
   "metadata": {},
   "outputs": [
    {
     "name": "stdout",
     "output_type": "stream",
     "text": [
      "60000.0\n",
      "69000.0\n",
      "63000.0\n",
      "total biaya = 3786000.0\n"
     ]
    }
   ],
   "source": [
    "hargaBuku = 100000\n",
    "eksemplar = 60\n",
    "bukuDiskon = hargaBuku*(100-40)/100\n",
    "print(bukuDiskon)\n",
    "\n",
    "ongkirPertama = bukuDiskon+9000\n",
    "print(ongkirPertama)\n",
    "\n",
    "ongkirSelanjutnya = bukuDiskon+3000\n",
    "print(ongkirSelanjutnya)\n",
    "\n",
    "print(\"total biaya =\", ongkirPertama+ongkirSelanjutnya*(eksemplar-1))"
   ]
  },
  {
   "cell_type": "markdown",
   "metadata": {},
   "source": [
    "# JAWABAN DOSEN\n",
    "harus runtut dan memecahkan masalah satu per satu dulu"
   ]
  },
  {
   "cell_type": "code",
   "execution_count": 16,
   "metadata": {},
   "outputs": [
    {
     "name": "stdout",
     "output_type": "stream",
     "text": [
      "3786000.0\n"
     ]
    }
   ],
   "source": [
    "harga_buku = 100000\n",
    "diskon = 40\n",
    "ongkir_pertama = 9000\n",
    "ongkir_selanjutnya = 3000\n",
    "eksemplar = 60\n",
    "\n",
    "harga_setelah_diskon = harga_buku * (100-diskon)/100\n",
    "harga_ongkir = ongkir_pertama + ongkir_selanjutnya * (eksemplar-1)\n",
    "harga_total = harga_setelah_diskon * eksemplar + harga_ongkir\n",
    "\n",
    "print(harga_total)"
   ]
  },
  {
   "cell_type": "code",
   "execution_count": 17,
   "metadata": {
    "scrolled": true
   },
   "outputs": [
    {
     "name": "stdout",
     "output_type": "stream",
     "text": [
      "Anda masuk ke waiting list\n",
      "Program Selesai\n"
     ]
    }
   ],
   "source": [
    "nilai = 85\n",
    "if nilai>=90:\n",
    "    print(\"Lulus\")\n",
    "    print(\"Selamat\")\n",
    "elif nilai>80:\n",
    "    print(\"Anda masuk ke waiting list\")\n",
    "else:\n",
    "    print(\"Maaf anda belum berhasil\")\n",
    "    \n",
    "print(\"Program Selesai\")"
   ]
  },
  {
   "cell_type": "markdown",
   "metadata": {},
   "source": [
    "kalau elsenya sudah masuk didalam if, dan ketika benar, dia langsung ke hasil"
   ]
  },
  {
   "cell_type": "markdown",
   "metadata": {},
   "source": [
    "BMI = weight (kg) / height (m)^2\n",
    "Setelah tau BMI nya, dikategorikan\n",
    "Disepakati, angka didepan berarti lebih dari atau disertakan angkanya\n",
    "\n",
    "Submit tugas di akun github dengan nama kalian sendiri ->  buat repository dengan nama : digital-talent -> namanya tugas BMI.ipynb -> commit ke github\n",
    "\n",
    "Download GIT dulu\n",
    "\n",
    "Kalau sudah, submit link github reponya di eLisa"
   ]
  },
  {
   "cell_type": "code",
   "execution_count": null,
   "metadata": {},
   "outputs": [],
   "source": []
  }
 ],
 "metadata": {
  "kernelspec": {
   "display_name": "Python 3",
   "language": "python",
   "name": "python3"
  },
  "language_info": {
   "codemirror_mode": {
    "name": "ipython",
    "version": 3
   },
   "file_extension": ".py",
   "mimetype": "text/x-python",
   "name": "python",
   "nbconvert_exporter": "python",
   "pygments_lexer": "ipython3",
   "version": "3.7.0"
  }
 },
 "nbformat": 4,
 "nbformat_minor": 2
}
