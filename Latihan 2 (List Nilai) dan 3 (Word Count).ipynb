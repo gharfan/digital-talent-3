{
 "cells": [
  {
   "cell_type": "markdown",
   "metadata": {},
   "source": [
    "# LATIHAN 2 - Tugas List Nilai\n",
    "\n",
    "Diberikan sekumpulan Nilai Random antara 0 sampai dengan 100 sebanyak 250 nilai. Buatlah program untuk melakukan hal berikut:\n",
    "1. Tampilkan Angka Ganjil dari ke 250 nilai tersebut\n",
    "2. Tampilkan berapa banyak yang mendapatkan nilai lebih dari 70\n",
    "3. Tampilkan standar deviasi dari sekumpulan nilai tersebut\n",
    "4. Tampilkan nilai maksimum dan minimum\n",
    "5. Tampilkan modus dari sekumpulan nilai tersebut"
   ]
  },
  {
   "cell_type": "code",
   "execution_count": 1,
   "metadata": {},
   "outputs": [
    {
     "name": "stdout",
     "output_type": "stream",
     "text": [
      "[93, 84, 24, 11, 39, 72, 39, 41, 9, 43, 21, 90, 97, 23, 64, 81, 2, 65, 79, 97, 57, 56, 42, 60, 54, 79, 22, 33, 75, 13, 4, 78, 96, 80, 65, 62, 36, 36, 4, 53, 81, 4, 58, 45, 92, 35, 29, 87, 80, 37, 47, 29, 23, 69, 51, 11, 27, 13, 75, 31, 26, 63, 75, 56, 9, 81, 81, 41, 69, 15, 49, 11, 89, 84, 65, 11, 30, 35, 71, 5, 41, 70, 16, 11, 10, 23, 1, 87, 7, 65, 44, 56, 23, 16, 45, 70, 22, 91, 36, 23, 23, 66, 45, 26, 45, 3, 40, 70, 84, 31, 45, 93, 42, 37, 27, 94, 18, 63, 62, 73, 83, 97, 25, 43, 59, 68, 42, 61, 10, 27, 59, 22, 17, 17, 5, 1, 40, 56, 74, 71, 63, 82, 20, 22, 19, 96, 66, 8, 25, 13, 60, 34, 20, 95, 76, 96, 80, 42, 8, 22, 71, 43, 50, 11, 46, 29, 16, 17, 5, 21, 26, 18, 52, 18, 66, 5, 5, 93, 64, 7, 89, 23, 85, 74, 82, 92, 49, 74, 76, 27, 76, 54, 71, 94, 97, 34, 4, 98, 10, 20, 94, 41, 95, 40, 29, 10, 4, 41, 67, 67, 74, 92, 77, 49, 30, 62, 72, 24, 97, 45, 58, 98, 41, 11, 12, 42, 70, 72, 86, 92, 9, 65, 3, 94, 12, 15, 25, 8, 55, 11, 4, 17, 12, 36, 57, 29, 21, 2, 81, 14]\n"
     ]
    }
   ],
   "source": [
    "import random\n",
    "\n",
    "# GENERATE RANDOM\n",
    "nilaiTugas = []\n",
    "for i in range(250):\n",
    "    nilaiTugas.append(random.randrange(1,100,1))\n",
    "\n",
    "print(nilaiTugas)"
   ]
  },
  {
   "cell_type": "markdown",
   "metadata": {},
   "source": [
    "# TAMPILKAN"
   ]
  },
  {
   "cell_type": "code",
   "execution_count": 2,
   "metadata": {},
   "outputs": [
    {
     "name": "stdout",
     "output_type": "stream",
     "text": [
      "93\n",
      "11\n",
      "39\n",
      "39\n",
      "41\n",
      "9\n",
      "43\n",
      "21\n",
      "97\n",
      "23\n",
      "81\n",
      "65\n",
      "79\n",
      "97\n",
      "57\n",
      "79\n",
      "33\n",
      "75\n",
      "13\n",
      "65\n",
      "53\n",
      "81\n",
      "45\n",
      "35\n",
      "29\n",
      "87\n",
      "37\n",
      "47\n",
      "29\n",
      "23\n",
      "69\n",
      "51\n",
      "11\n",
      "27\n",
      "13\n",
      "75\n",
      "31\n",
      "63\n",
      "75\n",
      "9\n",
      "81\n",
      "81\n",
      "41\n",
      "69\n",
      "15\n",
      "49\n",
      "11\n",
      "89\n",
      "65\n",
      "11\n",
      "35\n",
      "71\n",
      "5\n",
      "41\n",
      "11\n",
      "23\n",
      "1\n",
      "87\n",
      "7\n",
      "65\n",
      "23\n",
      "45\n",
      "91\n",
      "23\n",
      "23\n",
      "45\n",
      "45\n",
      "3\n",
      "31\n",
      "45\n",
      "93\n",
      "37\n",
      "27\n",
      "63\n",
      "73\n",
      "83\n",
      "97\n",
      "25\n",
      "43\n",
      "59\n",
      "61\n",
      "27\n",
      "59\n",
      "17\n",
      "17\n",
      "5\n",
      "1\n",
      "71\n",
      "63\n",
      "19\n",
      "25\n",
      "13\n",
      "95\n",
      "71\n",
      "43\n",
      "11\n",
      "29\n",
      "17\n",
      "5\n",
      "21\n",
      "5\n",
      "5\n",
      "93\n",
      "7\n",
      "89\n",
      "23\n",
      "85\n",
      "49\n",
      "27\n",
      "71\n",
      "97\n",
      "41\n",
      "95\n",
      "29\n",
      "41\n",
      "67\n",
      "67\n",
      "77\n",
      "49\n",
      "97\n",
      "45\n",
      "41\n",
      "11\n",
      "9\n",
      "65\n",
      "3\n",
      "15\n",
      "25\n",
      "55\n",
      "11\n",
      "17\n",
      "57\n",
      "29\n",
      "21\n",
      "81\n"
     ]
    }
   ],
   "source": [
    "# ganjil\n",
    "for n in nilaiTugas:\n",
    "    if n%2!=0:\n",
    "        print(n)"
   ]
  },
  {
   "cell_type": "code",
   "execution_count": 8,
   "metadata": {},
   "outputs": [
    {
     "name": "stdout",
     "output_type": "stream",
     "text": [
      "93\n",
      "84\n",
      "72\n",
      "90\n",
      "97\n",
      "81\n",
      "79\n",
      "97\n",
      "79\n",
      "75\n",
      "78\n",
      "96\n",
      "80\n",
      "81\n",
      "92\n",
      "87\n",
      "80\n",
      "75\n",
      "75\n",
      "81\n",
      "81\n",
      "89\n",
      "84\n",
      "71\n",
      "87\n",
      "91\n",
      "84\n",
      "93\n",
      "94\n",
      "73\n",
      "83\n",
      "97\n",
      "74\n",
      "71\n",
      "82\n",
      "96\n",
      "95\n",
      "76\n",
      "96\n",
      "80\n",
      "71\n",
      "93\n",
      "89\n",
      "85\n",
      "74\n",
      "82\n",
      "92\n",
      "74\n",
      "76\n",
      "76\n",
      "71\n",
      "94\n",
      "97\n",
      "98\n",
      "94\n",
      "95\n",
      "74\n",
      "92\n",
      "77\n",
      "72\n",
      "97\n",
      "98\n",
      "72\n",
      "86\n",
      "92\n",
      "94\n",
      "81\n"
     ]
    }
   ],
   "source": [
    "# nilai > 70\n",
    "for a in nilaiTugas:\n",
    "    if a>70:\n",
    "        print(a)"
   ]
  },
  {
   "cell_type": "code",
   "execution_count": 28,
   "metadata": {},
   "outputs": [
    {
     "data": {
      "text/plain": [
       "29.148521471937475"
      ]
     },
     "execution_count": 28,
     "metadata": {},
     "output_type": "execute_result"
    }
   ],
   "source": [
    "# standar deviasi\n",
    "import statistics\n",
    "statistics.pstdev(nilaiTugas)"
   ]
  },
  {
   "cell_type": "code",
   "execution_count": 29,
   "metadata": {},
   "outputs": [
    {
     "data": {
      "text/plain": [
       "98"
      ]
     },
     "execution_count": 29,
     "metadata": {},
     "output_type": "execute_result"
    }
   ],
   "source": [
    "# maksimum\n",
    "max(nilaiTugas)"
   ]
  },
  {
   "cell_type": "code",
   "execution_count": 30,
   "metadata": {},
   "outputs": [
    {
     "data": {
      "text/plain": [
       "1"
      ]
     },
     "execution_count": 30,
     "metadata": {},
     "output_type": "execute_result"
    }
   ],
   "source": [
    "# minimum\n",
    "min(nilaiTugas)"
   ]
  },
  {
   "cell_type": "code",
   "execution_count": 37,
   "metadata": {},
   "outputs": [
    {
     "data": {
      "text/plain": [
       "11"
      ]
     },
     "execution_count": 37,
     "metadata": {},
     "output_type": "execute_result"
    }
   ],
   "source": [
    "# modus\n",
    "statistics.mode(nilaiTugas)"
   ]
  },
  {
   "cell_type": "markdown",
   "metadata": {},
   "source": [
    "# LATIHAN 3 - Word Count\n",
    "Diberikan sebuah paragraf, hitunglah banyak kemunculan masing-masing kata.\n",
    "Contoh : \"Presiden pagi ini melakukan kunjungan ke Jogja\"\n",
    "\n",
    "- presiden: 1\n",
    "- pagi: 1\n",
    "- ini: 1\n",
    "- melakukan: 1\n",
    "- kunjungan: 1\n",
    "- ke: 1\n",
    "- jogja: 1\n",
    "\n",
    "hints: Gunakan Dictionary dalam menyimpan word count. Gunakan kata sebagai key, dan jumlah kemunculan sebagai value"
   ]
  },
  {
   "cell_type": "code",
   "execution_count": 104,
   "metadata": {},
   "outputs": [
    {
     "name": "stdout",
     "output_type": "stream",
     "text": [
      "Barcelona berhasil merebut posisi puncak klasemen La Liga Spanyol seusai menang 4-2 atas Sevilla pada pertandingan pekan kesembilan di Stadion Camp Nou, Sabtu (20/10/2018) atau Minggu dini hari WIB. Barcelona membuka keunggulan pada menit ke-2 melalui gol yang dicetak oleh Philippe Coutinho. Lionel Messi menggandakan keunggulan Barcelona, 10 menit berselang.  Namun, nahas bagi Barcelona, karena Messi harus ditarik keluar pada menit ke-26 setelah mengalami cedera. Tanpa Messi, skor 2-0 bertahan hingga babak pertama berakhir.\n"
     ]
    }
   ],
   "source": [
    "paragraf = \"Barcelona berhasil merebut posisi puncak klasemen La Liga Spanyol seusai menang 4-2 atas Sevilla pada pertandingan pekan kesembilan di Stadion Camp Nou, Sabtu (20/10/2018) atau Minggu dini hari WIB. Barcelona membuka keunggulan pada menit ke-2 melalui gol yang dicetak oleh Philippe Coutinho. Lionel Messi menggandakan keunggulan Barcelona, 10 menit berselang.  Namun, nahas bagi Barcelona, karena Messi harus ditarik keluar pada menit ke-26 setelah mengalami cedera. Tanpa Messi, skor 2-0 bertahan hingga babak pertama berakhir.\"\n",
    "print(paragraf)"
   ]
  },
  {
   "cell_type": "markdown",
   "metadata": {},
   "source": [
    "1. Hilangkan Punctuation dan jadikan lowercase\n",
    "2. Hilangkan angka"
   ]
  },
  {
   "cell_type": "code",
   "execution_count": 105,
   "metadata": {},
   "outputs": [
    {
     "name": "stdout",
     "output_type": "stream",
     "text": [
      "barcelona berhasil merebut posisi puncak klasemen la liga spanyol seusai menang 4 2 atas sevilla pada pertandingan pekan kesembilan di stadion camp nou  sabtu  20 10 2018  atau minggu dini hari wib  barcelona membuka keunggulan pada menit ke 2 melalui gol yang dicetak oleh philippe coutinho  lionel messi menggandakan keunggulan barcelona  10 menit berselang   namun  nahas bagi barcelona  karena messi harus ditarik keluar pada menit ke 26 setelah mengalami cedera  tanpa messi  skor 2 0 bertahan hingga babak pertama berakhir \n",
      "barcelona berhasil merebut posisi puncak klasemen la liga spanyol seusai menang   atas sevilla pada pertandingan pekan kesembilan di stadion camp nou  sabtu      atau minggu dini hari wib  barcelona membuka keunggulan pada menit ke  melalui gol yang dicetak oleh philippe coutinho  lionel messi menggandakan keunggulan barcelona   menit berselang   namun  nahas bagi barcelona  karena messi harus ditarik keluar pada menit ke  setelah mengalami cedera  tanpa messi  skor   bertahan hingga babak pertama berakhir \n"
     ]
    }
   ],
   "source": [
    "for a in '-.,\\//()':\n",
    "    paragraf=paragraf.replace(a,' ')\n",
    "\n",
    "Paragraf = paragraf.lower()\n",
    "print(Paragraf)\n",
    "\n",
    "Paragraf = ''.join([i for i in Paragraf if not i.isdigit()])\n",
    "print(Paragraf)"
   ]
  },
  {
   "cell_type": "markdown",
   "metadata": {},
   "source": [
    "3. Pisah tiap kata"
   ]
  },
  {
   "cell_type": "code",
   "execution_count": 126,
   "metadata": {},
   "outputs": [
    {
     "name": "stdout",
     "output_type": "stream",
     "text": [
      "['barcelona', 'berhasil', 'merebut', 'posisi', 'puncak', 'klasemen', 'la', 'liga', 'spanyol', 'seusai', 'menang', 'atas', 'sevilla', 'pada', 'pertandingan', 'pekan', 'kesembilan', 'di', 'stadion', 'camp', 'nou', 'sabtu', 'atau', 'minggu', 'dini', 'hari', 'wib', 'barcelona', 'membuka', 'keunggulan', 'pada', 'menit', 'ke', 'melalui', 'gol', 'yang', 'dicetak', 'oleh', 'philippe', 'coutinho', 'lionel', 'messi', 'menggandakan', 'keunggulan', 'barcelona', 'menit', 'berselang', 'namun', 'nahas', 'bagi', 'barcelona', 'karena', 'messi', 'harus', 'ditarik', 'keluar', 'pada', 'menit', 'ke', 'setelah', 'mengalami', 'cedera', 'tanpa', 'messi', 'skor', 'bertahan', 'hingga', 'babak', 'pertama', 'berakhir']\n"
     ]
    }
   ],
   "source": [
    "kata_list=Paragraf.split()\n",
    "print(kata_list)"
   ]
  },
  {
   "cell_type": "markdown",
   "metadata": {},
   "source": [
    "4. Frekuensi atau Jumlah Kemunculan tiap kata"
   ]
  },
  {
   "cell_type": "code",
   "execution_count": 154,
   "metadata": {
    "scrolled": false
   },
   "outputs": [],
   "source": [
    "d = {}\n",
    "\n",
    "for kata in kata_list:\n",
    "    if kata not in d:\n",
    "        d[kata] = 0\n",
    "    d[kata] += 1"
   ]
  },
  {
   "cell_type": "code",
   "execution_count": 155,
   "metadata": {},
   "outputs": [
    {
     "name": "stdout",
     "output_type": "stream",
     "text": [
      "{'barcelona': 4, 'berhasil': 1, 'merebut': 1, 'posisi': 1, 'puncak': 1, 'klasemen': 1, 'la': 1, 'liga': 1, 'spanyol': 1, 'seusai': 1, 'menang': 1, 'atas': 1, 'sevilla': 1, 'pada': 3, 'pertandingan': 1, 'pekan': 1, 'kesembilan': 1, 'di': 1, 'stadion': 1, 'camp': 1, 'nou': 1, 'sabtu': 1, 'atau': 1, 'minggu': 1, 'dini': 1, 'hari': 1, 'wib': 1, 'membuka': 1, 'keunggulan': 2, 'menit': 3, 'ke': 2, 'melalui': 1, 'gol': 1, 'yang': 1, 'dicetak': 1, 'oleh': 1, 'philippe': 1, 'coutinho': 1, 'lionel': 1, 'messi': 3, 'menggandakan': 1, 'berselang': 1, 'namun': 1, 'nahas': 1, 'bagi': 1, 'karena': 1, 'harus': 1, 'ditarik': 1, 'keluar': 1, 'setelah': 1, 'mengalami': 1, 'cedera': 1, 'tanpa': 1, 'skor': 1, 'bertahan': 1, 'hingga': 1, 'babak': 1, 'pertama': 1, 'berakhir': 1}\n"
     ]
    }
   ],
   "source": [
    "print(d)"
   ]
  }
 ],
 "metadata": {
  "kernelspec": {
   "display_name": "Python 3",
   "language": "python",
   "name": "python3"
  },
  "language_info": {
   "codemirror_mode": {
    "name": "ipython",
    "version": 3
   },
   "file_extension": ".py",
   "mimetype": "text/x-python",
   "name": "python",
   "nbconvert_exporter": "python",
   "pygments_lexer": "ipython3",
   "version": "3.7.0"
  }
 },
 "nbformat": 4,
 "nbformat_minor": 2
}
